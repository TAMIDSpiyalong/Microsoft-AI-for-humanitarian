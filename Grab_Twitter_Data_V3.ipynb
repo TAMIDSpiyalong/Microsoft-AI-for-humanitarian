{
 "cells": [
  {
   "cell_type": "code",
   "execution_count": 105,
   "metadata": {},
   "outputs": [],
   "source": [
    "import requests\n",
    "from datetime import datetime\n",
    "import time\n",
    "import json\n",
    "import gzip\n",
    "from time import sleep\n",
    "import os\n",
    "from PIL import Image\n",
    "import urllib.request\n",
    "import pandas as pd\n",
    "import time\n",
    "import cv2\n",
    "import numpy as np"
   ]
  },
  {
   "cell_type": "code",
   "execution_count": 106,
   "metadata": {},
   "outputs": [],
   "source": [
    "consumer_key= '36Qsoa46nR4VO9EfOueSFCfxh'\n",
    "consumer_secret= '6fGdS2JJMUh9MEZhax2EPJUYZzUlfllHqstI2lH9Jr76FndAns'\n",
    "access_token= '1395828862920056837-cvjyWCORi89Axi3zaPKVCp1XPVZ72h'\n",
    "access_token_secret= 'MwtysPyNVi3775xmU0xBV34ET0e15lplAwPZHZm7KYOVA'\n",
    "bearer_token=\"AAAAAAAAAAAAAAAAAAAAAJMQQAEAAAAAGHRqBwVqzR9bfVHEkmZMoigVVio%3Dt6isMjeTsmSEWO9geH6pqfks9mV0Dt21ec0urXNJXd6jxOqLYk\""
   ]
  },
  {
   "cell_type": "code",
   "execution_count": 107,
   "metadata": {},
   "outputs": [],
   "source": [
    "def create_headers(bearer_token):\n",
    "    headers = {\"Authorization\": \"Bearer {}\".format(bearer_token)}\n",
    "    return headers"
   ]
  },
  {
   "cell_type": "code",
   "execution_count": 108,
   "metadata": {},
   "outputs": [],
   "source": [
    "def connect_to_endpoint(url, headers, params):\n",
    "    response = requests.request(\"GET\", search_url, headers=headers, params=params)\n",
    "    # print(response.status_code)\n",
    "    if response.status_code != 200:\n",
    "        raise Exception(response.status_code, response.text)\n",
    "    return response.json()"
   ]
  },
  {
   "cell_type": "code",
   "execution_count": 109,
   "metadata": {},
   "outputs": [],
   "source": [
    "def save_data(json_output):\n",
    "    for each in json_output['includes']['media']:\n",
    "        \n",
    "        if 'preview_image_url' in each: \n",
    "            pic_url = each['preview_image_url']\n",
    "        if 'url' in each: \n",
    "            pic_url = each['url']        \n",
    "        req = urllib.request.urlopen(pic_url)\n",
    "        arr = np.asarray(bytearray(req.read()), dtype=np.uint8)\n",
    "        im = cv2.imdecode(arr, -1) # 'Load it as it is'\n",
    "        cv2.imwrite('test/'+each['media_key']+'.png', im)"
   ]
  },
  {
   "cell_type": "code",
   "execution_count": 103,
   "metadata": {},
   "outputs": [],
   "source": [
    "search_url = \"https://api.twitter.com/2/tweets/search/all\"\n",
    "\n",
    "keywords = \"\"\n",
    "\n",
    "longitude =  -95.361466\n",
    "latitude = 29.739105\n",
    "radius = 1\n",
    "\n",
    "west_long= -85.108175\n",
    "north_lat= 31.128807\n",
    "south_lat= 23.642619\n",
    "east_long= -77.125969\n",
    "\n",
    "query = \"-is:retweet has:images point_radius:[{1} {2} {3}mi] \".format(keywords,longitude,latitude,radius)\n",
    "\n",
    "# query = \"{0} -is:retweet has:images -is:nullcast bounding_box:[{1} {2} {3} {4}] \".format(keywords, west_long, south_lat, east_long ,north_lat)\n",
    "\n",
    "# query = \"{0} -is:retweet has:images place:Florida\".format(keywords)\n",
    "\n",
    "# parameters\n",
    "query_params = {\n",
    "\"query\" : query,\n",
    "\"max_results\" : 100,\n",
    "'start_time':'2017-08-17T00:00:00Z',\n",
    "'end_time':'2017-09-02T00:00:00Z',\n",
    "'expansions':'attachments.poll_ids,attachments.media_keys,author_id,geo.place_id,in_reply_to_user_id,referenced_tweets.id,entities.mentions.username,referenced_tweets.id.author_id',\n",
    "'media.fields':'duration_ms,height,media_key,preview_image_url,public_metrics,type,url,width',\n",
    "'place.fields':'contained_within,country,country_code,full_name,geo,id,name,place_type',\n",
    "'user.fields':'created_at,description,entities,id,location,name,pinned_tweet_id,profile_image_url,protected,public_metrics,url,username,verified,withheld',\n",
    "'tweet.fields': 'attachments,author_id,context_annotations,conversation_id,created_at,entities,geo,id,in_reply_to_user_id,lang,possibly_sensitive,public_metrics,referenced_tweets,reply_settings,source,text,withheld',\n",
    "\n",
    "}"
   ]
  },
  {
   "cell_type": "code",
   "execution_count": null,
   "metadata": {},
   "outputs": [],
   "source": []
  },
  {
   "cell_type": "code",
   "execution_count": null,
   "metadata": {},
   "outputs": [],
   "source": []
  },
  {
   "cell_type": "code",
   "execution_count": null,
   "metadata": {},
   "outputs": [],
   "source": [
    "data=[]\n",
    "tweet_count = 0 \n",
    "headers = create_headers(bearer_token)\n",
    "json_response = connect_to_endpoint(search_url, headers, query_params)\n",
    "print(json_response['meta']['result_count'])\n",
    "\n",
    "flag = False\n",
    "if 'next_token' in json_response[\"meta\"] and json_response['meta']['result_count']!=0:\n",
    "    flag=True\n",
    "    save_data(json_response)\n",
    "    data.append(json_response)\n",
    "\n",
    "while flag:\n",
    "    \n",
    "    time.sleep(2)\n",
    "\n",
    "    query_params[\"next_token\"] = json_response[\"meta\"][\"next_token\"]\n",
    "    json_response = connect_to_endpoint(search_url, headers, query_params)\n",
    "\n",
    "    \n",
    "    if 'next_token' in json_response[\"meta\"] and json_response['meta']['result_count']!=0:\n",
    "        print(json_response[\"meta\"][\"next_token\"])\n",
    "    else:\n",
    "        flag=False\n",
    "        continue\n",
    "    save_data(json_response)\n",
    "    data.append(json_response)\n",
    "    tweet_count += json_response['meta']['result_count'] \n",
    "    print('tweet_total_count: '+ str(tweet_count))\n",
    "    \n",
    "\n",
    "# with open('Florida_Fuck.json', 'w') as f:\n",
    "#     json.dump(data, f)"
   ]
  },
  {
   "cell_type": "code",
   "execution_count": null,
   "metadata": {},
   "outputs": [],
   "source": [
    "data[0]['data']"
   ]
  },
  {
   "cell_type": "code",
   "execution_count": 99,
   "metadata": {},
   "outputs": [],
   "source": [
    "with open('Houston_Harvey_1Mile.json', 'w') as f:\n",
    "    json.dump(data, f)"
   ]
  },
  {
   "cell_type": "code",
   "execution_count": 27,
   "metadata": {},
   "outputs": [
    {
     "data": {
      "text/plain": [
       "False"
      ]
     },
     "execution_count": 27,
     "metadata": {},
     "output_type": "execute_result"
    }
   ],
   "source": [
    "json_response['meta']['result_count']!=0"
   ]
  },
  {
   "cell_type": "code",
   "execution_count": 67,
   "metadata": {},
   "outputs": [
    {
     "data": {
      "text/plain": [
       "{'meta': {'result_count': 0,\n",
       "  'next_token': '1jzu9lk96gu5npw44ndqoltahkv0tpmt4iaq6h3xqmbh'}}"
      ]
     },
     "execution_count": 67,
     "metadata": {},
     "output_type": "execute_result"
    }
   ],
   "source": [
    "json_response"
   ]
  },
  {
   "cell_type": "code",
   "execution_count": null,
   "metadata": {},
   "outputs": [],
   "source": []
  },
  {
   "cell_type": "code",
   "execution_count": null,
   "metadata": {},
   "outputs": [],
   "source": []
  },
  {
   "cell_type": "code",
   "execution_count": null,
   "metadata": {},
   "outputs": [],
   "source": [
    "with open('data.json', 'r') as f:\n",
    "    data = json.load(f)\n",
    "    print(data)"
   ]
  },
  {
   "cell_type": "code",
   "execution_count": null,
   "metadata": {},
   "outputs": [
    {
     "name": "stdout",
     "output_type": "stream",
     "text": [
      "Orlando, Florida\n"
     ]
    }
   ],
   "source": [
    "for each in json_output['includes']['users']:\n",
    "#     print(each['id'])\n",
    "    if json_output['data'][66]['author_id']==each['id']:\n",
    "        print(each['location'])\n",
    "#         every.update({'userlocation':each['location']})"
   ]
  },
  {
   "cell_type": "code",
   "execution_count": null,
   "metadata": {},
   "outputs": [
    {
     "data": {
      "text/plain": [
       "dict_keys(['entities', 'source', 'context_annotations', 'conversation_id', 'lang', 'geo', 'possibly_sensitive', 'attachments', 'edit_history_tweet_ids', 'reply_settings', 'id', 'created_at', 'author_id', 'text', 'public_metrics', 'place'])"
      ]
     },
     "execution_count": 132,
     "metadata": {},
     "output_type": "execute_result"
    }
   ],
   "source": [
    "json_output['data'][1].keys()"
   ]
  },
  {
   "cell_type": "code",
   "execution_count": null,
   "metadata": {},
   "outputs": [],
   "source": [
    "v"
   ]
  },
  {
   "cell_type": "code",
   "execution_count": null,
   "metadata": {},
   "outputs": [],
   "source": [
    "data"
   ]
  },
  {
   "cell_type": "code",
   "execution_count": null,
   "metadata": {},
   "outputs": [],
   "source": [
    "json_output['includes']['places']"
   ]
  },
  {
   "cell_type": "code",
   "execution_count": null,
   "metadata": {},
   "outputs": [],
   "source": []
  },
  {
   "cell_type": "code",
   "execution_count": null,
   "metadata": {},
   "outputs": [],
   "source": [
    "json_output['data'][0]"
   ]
  },
  {
   "cell_type": "code",
   "execution_count": null,
   "metadata": {},
   "outputs": [],
   "source": []
  },
  {
   "cell_type": "code",
   "execution_count": null,
   "metadata": {},
   "outputs": [],
   "source": [
    "json_output['includes']['users']"
   ]
  },
  {
   "cell_type": "code",
   "execution_count": null,
   "metadata": {},
   "outputs": [],
   "source": []
  },
  {
   "cell_type": "code",
   "execution_count": 8,
   "metadata": {},
   "outputs": [
    {
     "data": {
      "text/plain": [
       "dict_keys(['data', 'includes', 'errors', 'meta'])"
      ]
     },
     "execution_count": 8,
     "metadata": {},
     "output_type": "execute_result"
    }
   ],
   "source": [
    "json_output.keys()"
   ]
  },
  {
   "cell_type": "code",
   "execution_count": null,
   "metadata": {},
   "outputs": [],
   "source": []
  },
  {
   "cell_type": "code",
   "execution_count": null,
   "metadata": {},
   "outputs": [],
   "source": [
    "    "
   ]
  },
  {
   "cell_type": "code",
   "execution_count": null,
   "metadata": {},
   "outputs": [],
   "source": [
    "len(data)"
   ]
  },
  {
   "cell_type": "code",
   "execution_count": null,
   "metadata": {},
   "outputs": [],
   "source": [
    "data"
   ]
  },
  {
   "cell_type": "code",
   "execution_count": null,
   "metadata": {},
   "outputs": [],
   "source": [
    "every['geo']['place_id']"
   ]
  },
  {
   "cell_type": "code",
   "execution_count": null,
   "metadata": {},
   "outputs": [],
   "source": [
    "{each['id']"
   ]
  },
  {
   "cell_type": "code",
   "execution_count": null,
   "metadata": {},
   "outputs": [],
   "source": [
    "v['places']"
   ]
  },
  {
   "cell_type": "code",
   "execution_count": null,
   "metadata": {},
   "outputs": [],
   "source": []
  },
  {
   "cell_type": "code",
   "execution_count": null,
   "metadata": {},
   "outputs": [],
   "source": []
  },
  {
   "cell_type": "code",
   "execution_count": null,
   "metadata": {},
   "outputs": [],
   "source": [
    "json_output['includes']['places'][0]['id']"
   ]
  },
  {
   "cell_type": "code",
   "execution_count": null,
   "metadata": {},
   "outputs": [],
   "source": []
  },
  {
   "cell_type": "code",
   "execution_count": null,
   "metadata": {},
   "outputs": [],
   "source": []
  }
 ],
 "metadata": {
  "kernelspec": {
   "display_name": "Python 3 (ipykernel)",
   "language": "python",
   "name": "python3"
  },
  "language_info": {
   "codemirror_mode": {
    "name": "ipython",
    "version": 3
   },
   "file_extension": ".py",
   "mimetype": "text/x-python",
   "name": "python",
   "nbconvert_exporter": "python",
   "pygments_lexer": "ipython3",
   "version": "3.7.9"
  }
 },
 "nbformat": 4,
 "nbformat_minor": 4
}
